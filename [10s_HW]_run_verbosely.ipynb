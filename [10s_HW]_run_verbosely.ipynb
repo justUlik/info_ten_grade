{
  "nbformat": 4,
  "nbformat_minor": 0,
  "metadata": {
    "colab": {
      "name": "[10s HW] run_verbosely.ipynb",
      "provenance": [],
      "collapsed_sections": [],
      "include_colab_link": true
    },
    "kernelspec": {
      "name": "python3",
      "display_name": "Python 3"
    },
    "language_info": {
      "name": "python"
    }
  },
  "cells": [
    {
      "cell_type": "markdown",
      "metadata": {
        "id": "view-in-github",
        "colab_type": "text"
      },
      "source": [
        "<a href=\"https://colab.research.google.com/github/justUlik/info_ten_grade/blob/main/%5B10s_HW%5D_run_verbosely.ipynb\" target=\"_parent\"><img src=\"https://colab.research.google.com/assets/colab-badge.svg\" alt=\"Open In Colab\"/></a>"
      ]
    },
    {
      "cell_type": "code",
      "metadata": {
        "id": "NMI458ZOwdtt"
      },
      "source": [
        "# Место для вашего имени.\n",
        "# Пожалуйста, также назовите нормально колаб, который присылаете\n",
        "# (добавьте фамилию, уберите слова вроде \"копия\")"
      ],
      "execution_count": null,
      "outputs": []
    },
    {
      "cell_type": "markdown",
      "metadata": {
        "id": "pLqxvNdrKA_a"
      },
      "source": [
        "Ссылка на этот колаб:\n",
        "\n",
        "https://colab.research.google.com/drive/1U-PpQfNzJyQ_S1rVtMaChtvI6xxL0G_l?usp=sharing"
      ]
    },
    {
      "cell_type": "markdown",
      "metadata": {
        "id": "A5xwRwyOsp3Y"
      },
      "source": [
        "### Чё как?"
      ]
    },
    {
      "cell_type": "markdown",
      "metadata": {
        "id": "thIPBl_7sq8z"
      },
      "source": [
        "Дедлайн по этому заданию – 27.09 ПН, 23:59 МСК (но лучше постарайтесь прислать в воскресенье).\n",
        "\n",
        "Ваша задача – написать функцию `run_verbosely()`, которая будет принтовать:\n",
        "- какая функция вызывается;\n",
        "- с какими параметрами эта функция вызывается;\n",
        "- выполнять поданную ей на вход функцию `func`;\n",
        "- какое значение вернула функция.\n",
        "\n",
        "Это задание построено по принципу TDD (Test-driven development) – то есть, грубо говоря, вам нужно написать такой код, который проходит тесты :)\n",
        "\n",
        "Поэтому если у вас есть вопросы по тому, что именно и в каком порядке принтовать – в первую очередь посмотрите в файл с тестами! Если это вам не помогло, не стесняйтесь задавать вопросы!"
      ]
    },
    {
      "cell_type": "markdown",
      "metadata": {
        "id": "vlYTK_sKucZD"
      },
      "source": [
        "### Совет"
      ]
    },
    {
      "cell_type": "markdown",
      "metadata": {
        "id": "l74F5dwfuaie"
      },
      "source": [
        "Если вы ходите в четверг, посмотрите те уроки, которые были во вторник 14.09.\n",
        "\n",
        "Если вы ходите во вторник, посмотрите те уроки, которые были в четверг 16.09.\n",
        "\n",
        "Если вам это не помогло – обязательно задайте вопрос на уроке на следующей неделе."
      ]
    },
    {
      "cell_type": "markdown",
      "metadata": {
        "id": "IpcdlkwmtnPW"
      },
      "source": [
        "### Файл с вашим кодом"
      ]
    },
    {
      "cell_type": "code",
      "metadata": {
        "colab": {
          "base_uri": "https://localhost:8080/"
        },
        "id": "fDWJapC06qqh",
        "outputId": "b15efd7e-ac35-4565-d4ca-84394db4386f"
      },
      "source": [
        "%%file run_verbosely.py\n",
        "\"\"\"\n",
        "This module contains run_verbosely function,\n",
        "which logs parameters of another function call.\n",
        "\"\"\"\n",
        "\n",
        "\n",
        "def run_verbosely(func):\n",
        "    \"\"\"\n",
        "    Print name of called func function,\n",
        "    print its args, kwargs and return value.\n",
        "    \"\"\"\n",
        "    def wrapper(...):\n",
        "        raise NotImplementedError\n",
        "    return wrapper\n",
        "\n"
      ],
      "execution_count": null,
      "outputs": [
        {
          "output_type": "stream",
          "name": "stdout",
          "text": [
            "Writing run_verbosely.py\n"
          ]
        }
      ]
    },
    {
      "cell_type": "markdown",
      "metadata": {
        "id": "A_OwvkTct3KT"
      },
      "source": [
        "### Тесты для вашего кода"
      ]
    },
    {
      "cell_type": "code",
      "metadata": {
        "id": "8r1b13n76Xp9",
        "colab": {
          "base_uri": "https://localhost:8080/"
        },
        "outputId": "d05593f6-b11a-4d63-8f12-6c1649a21d3a"
      },
      "source": [
        "%%file test_run_verbosely.py\n",
        "\n",
        "import textwrap\n",
        "\n",
        "import pytest\n",
        "\n",
        "from run_verbosely import run_verbosely\n",
        "\n",
        "\n",
        "def do_nothing():\n",
        "    pass\n",
        "\n",
        "\n",
        "DO_NOTHING_OUT = textwrap.dedent(\"\"\"\\\n",
        "    Calling do_nothing() function\n",
        "    Args are: \n",
        "    Kwargs are: \n",
        "    Return value is: None\n",
        "\"\"\")\n",
        "\n",
        "\n",
        "def return_some_str(a, b, c, *, d, e, f):\n",
        "    return \"some_str\"\n",
        "\n",
        "\n",
        "RETURN_SOME_STR_OUT = textwrap.dedent(\"\"\"\\\n",
        "    Calling return_some_str() function\n",
        "    Args are: 1, 2, 3\n",
        "    Kwargs are: d=5, e=6, f=hey\n",
        "    Return value is: some_str\n",
        "\"\"\")\n",
        "\n",
        "\n",
        "def print_42_twice():\n",
        "    print(42)\n",
        "    print(42)\n",
        "\n",
        "\n",
        "PRINT_42_TWICE_OUT = textwrap.dedent(\"\"\"\\\n",
        "    Calling print_42_twice() function\n",
        "    Args are: \n",
        "    Kwargs are: \n",
        "    42\n",
        "    42\n",
        "    Return value is: None\n",
        "\"\"\")\n",
        "\n",
        "\n",
        "def print_and_return(int0, int1, *, some_string):\n",
        "    print(some_string * (int0 + int1))\n",
        "    return some_string * (int0 + int1 + 1)\n",
        "\n",
        "\n",
        "PRINT_AND_RETURN_OUT = textwrap.dedent(\"\"\"\\\n",
        "    Calling print_and_return() function\n",
        "    Args are: 1, 3\n",
        "    Kwargs are: some_string=abc\n",
        "    abcabcabcabc\n",
        "    Return value is: abcabcabcabcabc\n",
        "\"\"\")\n",
        "\n",
        "\n",
        "TEST_DATA = [\n",
        "    (print_42_twice, PRINT_42_TWICE_OUT, (), {}),\n",
        "    (\n",
        "        return_some_str, RETURN_SOME_STR_OUT,\n",
        "        (1, 2, 3), {'d': 5, 'e': 6, 'f': 'hey'}\n",
        "    ),\n",
        "    (do_nothing, DO_NOTHING_OUT, (), {}),\n",
        "    (print_and_return, PRINT_AND_RETURN_OUT, (1, 3), {'some_string': 'abc'})\n",
        "]\n",
        "\n",
        "\n",
        "@pytest.mark.parametrize(\n",
        "    argnames='func, captured_out, args, kwargs',\n",
        "    argvalues=TEST_DATA,\n",
        "    ids=[case[0].__name__ for case in TEST_DATA]\n",
        ")\n",
        "def test_run_verbosely(capsys, func, captured_out, args, kwargs):\n",
        "    func = run_verbosely(func)\n",
        "    func(*args, **kwargs)\n",
        "    captured = capsys.readouterr()\n",
        "    assert captured.out == captured_out\n",
        "\n",
        "@pytest.mark.parametrize(\n",
        "    argnames='func, captured_out',\n",
        "    argvalues=[\n",
        "        (do_nothing, DO_NOTHING_OUT * 3),\n",
        "    ],\n",
        "    ids=['do_nothing'])\n",
        "def test_run_verbosely_three_times(capsys, func, captured_out):\n",
        "    # assert False, type(do_nothing())\n",
        "    func = run_verbosely(func)\n",
        "    func()\n",
        "    func()\n",
        "    func()\n",
        "    captured = capsys.readouterr()\n",
        "    assert captured.out == captured_out\n",
        "\n"
      ],
      "execution_count": null,
      "outputs": [
        {
          "output_type": "stream",
          "name": "stdout",
          "text": [
            "Writing test_run_verbosely.py\n"
          ]
        }
      ]
    },
    {
      "cell_type": "markdown",
      "metadata": {
        "id": "kp66_-4hRUbv"
      },
      "source": [
        "### Проверка pylint + flake8"
      ]
    },
    {
      "cell_type": "code",
      "metadata": {
        "id": "5wX3w_qTRA8B"
      },
      "source": [
        "!python -m pip install pylint flake8"
      ],
      "execution_count": null,
      "outputs": []
    },
    {
      "cell_type": "code",
      "metadata": {
        "id": "ot_3VuudRDOR"
      },
      "source": [
        "!python -m pylint run_verbosely.py"
      ],
      "execution_count": null,
      "outputs": []
    },
    {
      "cell_type": "code",
      "metadata": {
        "id": "1C5mvDt_RMZM"
      },
      "source": [
        "!python -m flake8 run_verbosely.py --max-line-length=100"
      ],
      "execution_count": null,
      "outputs": []
    },
    {
      "cell_type": "markdown",
      "metadata": {
        "id": "INPouw8XRRDu"
      },
      "source": [
        "### Запуск тестов"
      ]
    },
    {
      "cell_type": "code",
      "metadata": {
        "id": "9AJsH2Fk7Ie8"
      },
      "source": [
        "!python -m pytest test_run_verbosely.py -vv"
      ],
      "execution_count": null,
      "outputs": []
    }
  ]
}